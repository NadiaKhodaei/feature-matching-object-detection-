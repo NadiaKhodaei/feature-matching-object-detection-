{
 "cells": [
  {
   "cell_type": "code",
   "execution_count": 51,
   "id": "46e02a88",
   "metadata": {},
   "outputs": [],
   "source": [
    "class ObjectDetector:\n",
    "    def __init__(self):\n",
    "        self.sift = cv2.xfeatures2d.SIFT_create()\n",
    "        self.FLANN_INDEX_KDTREE = 0\n",
    "        self.index_params = dict(algorithm=self.FLANN_INDEX_KDTREE, trees=5)\n",
    "        self.search_params = dict(checks=50)\n",
    "        \n",
    "\n",
    "    def detect_object(self,target, ref,Imagebase, result):\n",
    "        # Find SIFT descriptors for both base and object images\n",
    "        sift = cv2.xfeatures2d.SIFT_create()\n",
    "        keypts_base, descr_base = self.sift.detectAndCompute(Imagebase, None)\n",
    "\n",
    "        keypts_obj, descr_obj = self.sift.detectAndCompute(ref[\"image\"], None)\n",
    "\n",
    "        flann = cv2.FlannBasedMatcher(self.index_params,self.search_params)\n",
    "        matches = flann.knnMatch(descr_obj, descr_base, k=2)\n",
    "\n",
    "        # matches = cv2.BFMatcher().knnMatch(descr_obj, descr_base, k=2)\n",
    "        matches = [ [i] for i, j in matches if i.distance < 0.75*j.distance]\n",
    "    #     print(ref[\"name\"])\n",
    "        if len(matches) > 30:\n",
    "            src_pts = np.float32([ keypts_obj[m[0].queryIdx].pt for m in matches]).reshape(-1,1,2)\n",
    "            dst_pts = np.float32([ keypts_base[m[0].trainIdx].pt for m in matches]).reshape(-1,1,2)\n",
    "\n",
    "            M, mask = cv2.findHomography(src_pts, dst_pts, cv2.RANSAC, 5.0)\n",
    "\n",
    "            h, w, d = ref[\"image\"].shape\n",
    "            pts = np.float32([ [0,0],[0,h-1],[w-1,h-1],[w-1,0] ]).reshape(-1,1,2)\n",
    "            dst = np.int32(cv2.perspectiveTransform(pts, M))\n",
    "\n",
    "            matching_top_point = tuple(dst[np.argmin([x[0][1] for x in dst])][0])\n",
    "            result = cv2.polylines(result, [dst], True, (100,250,200), 1, cv2.LINE_AA)\n",
    "            cv2.putText(result, ref[\"name\"], matching_top_point, cv2.FONT_HERSHEY_COMPLEX_SMALL, 0.7, (255,255,255), 1)\n",
    "        else:\n",
    "            print(\"Could not find any satisfying matches for {}\".format(ref[\"name\"]))\n",
    "            return False\n",
    "\n",
    "        matching_img = cv2.drawMatchesKnn(ref[\"image\"], keypts_obj, Imagebase, keypts_base, matches, None, flags=2)\n",
    "\n",
    "        plt.imshow(matching_img)\n",
    "    #     plt.title('Feature matching for {}'.format(obj))\n",
    "        plt.axis('off')  # Hide axes\n",
    "        plt.show()\n",
    "        return True\n",
    "    def name_insert(self,target, refs):    \n",
    "        result = target[\"image\"].copy()\n",
    "        name_insert = []\n",
    "        for ref in refs:\n",
    "            if self.detect_object(target, ref, Imagebase, result) == True:\n",
    "                 name_insert.append(ref[\"name\"])\n",
    "\n",
    "        result_rgb = cv2.cvtColor(result, cv2.COLOR_BGR2RGB)\n",
    "\n",
    "        # Display the image using Matplotlib\n",
    "        plt.imshow(result_rgb)\n",
    "        plt.title('Final result for {} (refs found: {})'.format(target[\"name\"], \", \".join(name_insert)))\n",
    "        plt.axis('off')  # Hide axes\n",
    "        plt.show()\n",
    "\n",
    "\n",
    "\n"
   ]
  },
  {
   "cell_type": "code",
   "execution_count": null,
   "id": "f9d2a962",
   "metadata": {},
   "outputs": [
    {
     "name": "stdout",
     "output_type": "stream",
     "text": [
      "Enter the number of images you want to use:\n"
     ]
    }
   ],
   "source": [
    "if __name__ == \"__main__\":\n",
    "    print(\"Enter the number of images you want to use:\")\n",
    "    no_of_images = int(input())\n",
    "    print(\"Enter the image name\")\n",
    "    \n",
    "    fileobject = []\n",
    "    for i in range(no_of_images):\n",
    "        print(\"Enter the objects %d image:\" %(i+1))\n",
    "        fileobject.append(input())\n",
    "\n",
    "    images_objects = []\n",
    "    for i in range(no_of_images):\n",
    "        images_objects.append(cv2.imread(fileobject[i]))\n",
    "\n",
    "\n",
    "    print(\"Enter the base image:\")\n",
    "    filename_ref = input()\n",
    "    image_base = cv2.imread(filename_ref)\n",
    "# img_query_1.jpg\n",
    "\n",
    "    split=[i.split('.')[0] for i in fileobject]\n",
    "\n",
    "    Imagebase=cv2.imread(filename_ref)\n",
    "\n",
    "    filename_object=[cv2.imread(file) for file in fileobject]\n",
    "    target  = {\"name\": filename_ref.split('.')[0],\"image\":Imagebase}\n",
    "    refs = [{\"name\": name ,\"image\": cv2.imread(file)} for name, file in zip(split, fileobject)] \n",
    "\n",
    "#     print(objects)\n",
    "    detector = ObjectDetector()\n",
    "    detector.name_insert(target, refs)"
   ]
  },
  {
   "cell_type": "code",
   "execution_count": null,
   "id": "2a56132f",
   "metadata": {},
   "outputs": [],
   "source": []
  },
  {
   "cell_type": "code",
   "execution_count": null,
   "id": "9433e58b",
   "metadata": {},
   "outputs": [],
   "source": []
  },
  {
   "cell_type": "code",
   "execution_count": null,
   "id": "a99c39d2",
   "metadata": {},
   "outputs": [],
   "source": []
  }
 ],
 "metadata": {
  "kernelspec": {
   "display_name": "Python 3 (ipykernel)",
   "language": "python",
   "name": "python3"
  },
  "language_info": {
   "codemirror_mode": {
    "name": "ipython",
    "version": 3
   },
   "file_extension": ".py",
   "mimetype": "text/x-python",
   "name": "python",
   "nbconvert_exporter": "python",
   "pygments_lexer": "ipython3",
   "version": "3.8.10"
  }
 },
 "nbformat": 4,
 "nbformat_minor": 5
}
